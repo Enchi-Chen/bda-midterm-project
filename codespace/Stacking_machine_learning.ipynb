{
 "cells": [
  {
   "cell_type": "code",
   "execution_count": null,
   "id": "5d6ae51c",
   "metadata": {},
   "outputs": [],
   "source": [
    "from sklearn.feature_extraction.text import TfidfVectorizer\n",
    "tfidf_vectorizer = TfidfVectorizer()\n",
    "# 查看features\n",
    "feature_names = tfidf_vectorizer.get_feature_names_out()\n",
    "feature_names[:50]\n"
   ]
  },
  {
   "cell_type": "code",
   "execution_count": null,
   "metadata": {},
   "outputs": [],
   "source": [
    "from sklearn.model_selection import train_test_split\n",
    "# 拆分 Validation & Train\n",
    "x_train, x_valid, y_train, y_valid = train_test_split(x_train, y_train, test_size=0.1, random_state=8)"
   ]
  },
  {
   "cell_type": "markdown",
   "metadata": {},
   "source": [
    "## Logistic regression"
   ]
  },
  {
   "cell_type": "code",
   "execution_count": 40,
   "metadata": {},
   "outputs": [],
   "source": [
    "# 設定 grid\n",
    "import numpy as np\n",
    "\n",
    "grid = np.linspace(0.0001,1000,20)\n",
    "\n",
    "from sklearn.linear_model import LogisticRegression\n",
    "from sklearn.metrics import f1_score\n",
    "largest_F1 = -1\n",
    "bestc = -1\n",
    "\n",
    "# 找到最好的c\n",
    "for i in grid:\n",
    "    clf = LogisticRegression(random_state=0, C=i, max_iter=1000).fit(x_valid,np.ravel(y_valid))\n",
    "    y_pred = clf.predict(x_test)\n",
    "    F1 = f1_score(y_test, y_pred)\n",
    "    \n",
    "    # 找到最好的F1\n",
    "    if F1 > largest_F1:\n",
    "        bestc = i\n",
    "        largest_F1 = F1"
   ]
  },
  {
   "cell_type": "code",
   "execution_count": 41,
   "metadata": {},
   "outputs": [
    {
     "name": "stdout",
     "output_type": "stream",
     "text": [
      "bestc:  157.89482105263158\n",
      "F1:  0.8965517241379309\n",
      "accuracy:  0.98125\n",
      "recall:  0.961038961038961\n",
      "precicision:  1.0\n",
      "\n",
      "前五十個權重：\n",
      "            coef feature   abs_coef\n",
      "33414  12.410475      然而  12.410475\n",
      "3818   12.180297      他們  12.180297\n",
      "23352   9.617113     投資者   9.617113\n",
      "41515   9.495834      能夠   9.495834\n",
      "48757   8.752155      這一   8.752155\n",
      "35839   8.482829      發展   8.482829\n",
      "52262   8.123055      關注   8.123055\n",
      "34      7.881541      一些   7.881541\n",
      "19528   7.761840      帶來   7.761840\n",
      "50      7.648649      一個   7.648649\n",
      "19282   7.358026      市場   7.358026\n",
      "24369   7.032255      提供   7.032255\n",
      "20472   7.015514      引起   7.015514\n",
      "49284   6.953579      通過   6.953579\n",
      "3743   -6.475958      今年   6.475958\n",
      "30672  -6.424496      每日   6.424496\n",
      "18602  -6.387761      就是   6.387761\n",
      "49197  -6.334506      通知   6.334506\n",
      "27247   6.117511      更加   6.117511\n",
      "31943   5.886122     消費者   5.886122\n",
      "48526   5.747559      近日   5.747559\n",
      "14564  -5.724426      報導   5.724426\n",
      "11968   5.643634      同時   5.643634\n",
      "51173   5.636138      重要   5.636138\n",
      "40358  -5.570406      美元   5.570406\n",
      "44626  -5.521784      記者   5.521784\n",
      "48877   5.464895      這些   5.464895\n",
      "40382  -5.439249      美國   5.439249\n",
      "30433   5.343435      此外   5.343435\n",
      "49156   5.340495      這項   5.340495\n",
      "1100    5.325723      不僅   5.325723\n",
      "43600   5.279329      行業   5.279329\n",
      "22132   5.252850      應該   5.252850\n",
      "20322   5.239967      廣泛   5.239967\n",
      "53636   5.208158      需要   5.208158\n",
      "4915    5.183731      使得   5.183731\n",
      "27288   5.083686      更好   5.083686\n",
      "9272    5.071201      創新   5.071201\n",
      "48737  -5.061459      透過   5.061459\n",
      "7250   -5.053687      內容   5.053687\n",
      "22717  -4.987956      所以   4.987956\n",
      "14877   4.953589      增長   4.953589\n",
      "11499  -4.855448      台北   4.855448\n",
      "34826  -4.778404      甚至   4.778404\n",
      "48973   4.731610      這將   4.731610\n",
      "36395  -4.682954      目前   4.682954\n",
      "19079   4.671790      巨大   4.671790\n",
      "35038  -4.568133      產業   4.568133\n",
      "47527  -4.527649      超過   4.527649\n",
      "26071  -4.433602      新聞   4.433602\n"
     ]
    }
   ],
   "source": [
    "# 建立 Logistic regression 模型\n",
    "clf = LogisticRegression(random_state=0, C=bestc, max_iter=1000).fit(tfidf_train_array,y_train)\n",
    "y_pred = clf.predict(x_test)\n",
    "\n",
    "from sklearn.metrics import accuracy_score\n",
    "accuracy = accuracy_score(y_test, y_pred)\n",
    "from sklearn.metrics import precision_score\n",
    "precicision = precision_score(y_test, y_pred)\n",
    "from sklearn.metrics import recall_score\n",
    "recall = recall_score(y_test, y_pred)\n",
    "\n",
    "# 輸出各項資訊\n",
    "print(\"bestc: \", bestc)\n",
    "print(\"F1: \", largest_F1)\n",
    "print(\"accuracy: \", accuracy)\n",
    "print(\"recall: \", recall)\n",
    "print(\"precicision: \", precicision)\n",
    "coef = np.ravel(clf.coef_)\n",
    "abs_coef = abs(np.ravel(clf.coef_))\n",
    "coef_df = pd.DataFrame({\"coef\":coef, \"feature\":feature_names, \"abs_coef\":abs_coef})\n",
    "coef_df = coef_df.sort_values(by='abs_coef', ascending=False)\n",
    "print(\"\\n前五十個權重：\")\n",
    "print(coef_df.head(50))"
   ]
  },
  {
   "cell_type": "markdown",
   "metadata": {},
   "source": [
    "## RandomForestClassifier"
   ]
  },
  {
   "cell_type": "code",
   "execution_count": 42,
   "metadata": {},
   "outputs": [],
   "source": [
    "grid = np.linspace(5,1000,10)"
   ]
  },
  {
   "cell_type": "code",
   "execution_count": 43,
   "metadata": {},
   "outputs": [],
   "source": [
    "from sklearn.ensemble import RandomForestClassifier\n",
    "from sklearn.metrics import f1_score\n",
    "largest_F1 = -1\n",
    "best_n = -1\n",
    "for i in grid:\n",
    "    clf = RandomForestClassifier(n_estimators=int(i), random_state=0)\n",
    "    clf.fit(x_valid,np.ravel(y_valid))\n",
    "    y_pred = clf.predict(x_test)\n",
    "    F1 = f1_score(y_test, y_pred)\n",
    "    if F1 > largest_F1:\n",
    "        best_n = i\n",
    "        largest_F1 = F1"
   ]
  },
  {
   "cell_type": "code",
   "execution_count": 44,
   "metadata": {},
   "outputs": [
    {
     "name": "stdout",
     "output_type": "stream",
     "text": [
      "n_estimators:  115.55555555555556\n",
      "F1:  0.9387755102040817\n",
      "accuracy:  0.9625\n",
      "recall:  0.974025974025974\n",
      "precicision:  0.9493670886075949\n",
      "\n",
      "前二十個權重：\n",
      "       importance feature\n",
      "41515    0.010833      能夠\n",
      "3818     0.010700      他們\n",
      "33414    0.010316      然而\n",
      "3743     0.009078      今年\n",
      "52262    0.008443      關注\n",
      "30672    0.007562      每日\n",
      "30433    0.007542      此外\n",
      "43600    0.007492      行業\n",
      "49284    0.007094      通過\n",
      "23352    0.006921     投資者\n",
      "51173    0.006823      重要\n",
      "49197    0.006568      通知\n",
      "50       0.006518      一個\n",
      "19528    0.006111      帶來\n",
      "48877    0.006050      這些\n",
      "14564    0.005937      報導\n",
      "11968    0.005855      同時\n",
      "20322    0.005432      廣泛\n",
      "329      0.005218      一直\n",
      "22717    0.004850      所以\n"
     ]
    }
   ],
   "source": [
    "# 執行 Random Forest\n",
    "clf = RandomForestClassifier(n_estimators= int(best_n), random_state=0)\n",
    "clf.fit(x_train,np.ravel(y_train))\n",
    "y_pred = clf.predict(x_test)\n",
    "\n",
    "from sklearn.metrics import accuracy_score\n",
    "accuracy = accuracy_score(y_test, y_pred)\n",
    "from sklearn.metrics import precision_score\n",
    "precicision = precision_score(y_test, y_pred)\n",
    "from sklearn.metrics import recall_score\n",
    "recall = recall_score(y_test, y_pred)\n",
    "print(\"n_estimators: \", best_n)\n",
    "print(\"F1: \", largest_F1)\n",
    "print(\"accuracy: \", accuracy)\n",
    "print(\"recall: \", recall)\n",
    "print(\"precicision: \", precicision)\n",
    "important = np.ravel(clf.feature_importances_)\n",
    "coef_df = pd.DataFrame({\"importance\":important, \"feature\":feature_names})\n",
    "coef_df = coef_df.sort_values(by='importance', ascending=False)\n",
    "print(\"\\n前二十個權重：\")\n",
    "print(coef_df.head(20))"
   ]
  },
  {
   "cell_type": "markdown",
   "metadata": {},
   "source": [
    "## GradientBoosting Classifier"
   ]
  },
  {
   "cell_type": "code",
   "execution_count": 45,
   "metadata": {},
   "outputs": [],
   "source": [
    "# 設定參數\n",
    "Learning_rate_array = [0.1, 0.5, 1]\n",
    "n_estimater = 1500"
   ]
  },
  {
   "cell_type": "code",
   "execution_count": 46,
   "metadata": {},
   "outputs": [
    {
     "name": "stdout",
     "output_type": "stream",
     "text": [
      "best_F1:  0.9241379310344828\n",
      "best_lr:  0.1\n",
      "best__stage:  212\n"
     ]
    }
   ],
   "source": [
    "from sklearn.ensemble import GradientBoostingClassifier\n",
    "from sklearn.metrics import f1_score\n",
    "\n",
    "best_lr = -1\n",
    "best_stg_final = -1\n",
    "best_F1_final = -1\n",
    "\n",
    "# 尋找最佳的Learning rate\n",
    "for i in Learning_rate_array:\n",
    "    \n",
    "    # 跑模型\n",
    "    clf = GradientBoostingClassifier(n_estimators=1500, learning_rate=i).fit(x_valid, np.ravel(y_valid))\n",
    "    y_stage_pred = clf.staged_predict(x_test)\n",
    "    m = 0\n",
    "    largest_F1 = -1\n",
    "    best_nstg = -1\n",
    "    F1_list = []\n",
    "    for y_pred in y_stage_pred:\n",
    "        F1 = f1_score(y_test,y_pred)\n",
    "        F1_list.append(F1)\n",
    "        if F1 > largest_F1:\n",
    "            best_nstg = m\n",
    "            largest_F1 = F1\n",
    "        m += 1\n",
    "    \n",
    "    # 更新各項參數\n",
    "    if largest_F1 > best_F1_final:\n",
    "        best_F1_final = largest_F1\n",
    "        best_lr = i\n",
    "        best_stg_final = best_nstg\n",
    "\n",
    "# 輸出預測能力\n",
    "print(\"best_F1: \", best_F1_final)\n",
    "print(\"best_lr: \",best_lr)\n",
    "print(\"best__stage: \",best_stg_final)"
   ]
  },
  {
   "cell_type": "code",
   "execution_count": 47,
   "metadata": {},
   "outputs": [
    {
     "name": "stdout",
     "output_type": "stream",
     "text": [
      "F1:  0.9090909090909091\n",
      "accuracy:  0.9625\n",
      "recall:  0.948051948051948\n",
      "precicision:  0.9733333333333334\n",
      "\n",
      "前二十個權重：\n",
      "       importance feature\n",
      "33414    0.338456      然而\n",
      "30672    0.064730      每日\n",
      "52262    0.064460      關注\n",
      "41515    0.054526      能夠\n",
      "19528    0.053569      帶來\n",
      "3818     0.049983      他們\n",
      "49197    0.034050      通知\n",
      "49284    0.030958      通過\n",
      "3743     0.028416      今年\n",
      "48757    0.027188      這一\n",
      "48526    0.021771      近日\n",
      "54909    0.018625      首先\n",
      "14564    0.016893      報導\n",
      "35839    0.016738      發展\n",
      "30433    0.012247      此外\n",
      "17890    0.012171     將繼續\n",
      "34826    0.012111      甚至\n",
      "934      0.011322      下午\n",
      "20322    0.010848      廣泛\n",
      "48877    0.008944      這些\n"
     ]
    }
   ],
   "source": [
    "# 執行GradientBoostingClassifier\n",
    "clf = GradientBoostingClassifier(n_estimators=best_nstg, learning_rate=best_lr).fit(x_train, np.ravel(y_train))\n",
    "y_pred = clf.predict(x_test)\n",
    "\n",
    "from sklearn.metrics import accuracy_score\n",
    "accuracy = accuracy_score(y_test, y_pred)\n",
    "from sklearn.metrics import precision_score\n",
    "precicision = precision_score(y_test, y_pred)\n",
    "from sklearn.metrics import recall_score\n",
    "recall = recall_score(y_test, y_pred)\n",
    "\n",
    "# 輸出各項資訊\n",
    "print(\"F1: \", largest_F1)\n",
    "print(\"accuracy: \", accuracy)\n",
    "print(\"recall: \", recall)\n",
    "print(\"precicision: \", precicision)\n",
    "important = np.ravel(clf.feature_importances_)\n",
    "coef_df = pd.DataFrame({\"importance\":important, \"feature\":feature_names})\n",
    "coef_df = coef_df.sort_values(by='importance', ascending=False)\n",
    "print(\"\\n前二十個權重：\")\n",
    "print(coef_df.head(20))"
   ]
  },
  {
   "cell_type": "markdown",
   "metadata": {},
   "source": [
    "## Stacking"
   ]
  },
  {
   "cell_type": "code",
   "execution_count": 48,
   "metadata": {},
   "outputs": [],
   "source": [
    "# Level 0 Classifier build and conduct\n",
    "clf_Lo = LogisticRegression(random_state=0, C=bestc,max_iter=1000).fit(x_train,np.ravel(y_train))\n",
    "y_pred_logistic = clf_Lo.predict_proba(x_valid)\n",
    "\n",
    "clf_RF = RandomForestClassifier(n_estimators= int(best_n), random_state=0)\n",
    "clf_RF.fit(x_train,np.ravel(y_train))\n",
    "y_pred_RF = clf_RF.predict_proba(x_valid)\n",
    "\n",
    "clf_GB = GradientBoostingClassifier(n_estimators=best_nstg, learning_rate=best_lr).fit(x_train, np.ravel(y_train))\n",
    "y_pred_GBC = clf_GB.predict_proba(x_valid)"
   ]
  },
  {
   "cell_type": "code",
   "execution_count": 49,
   "metadata": {},
   "outputs": [
    {
     "name": "stdout",
     "output_type": "stream",
     "text": [
      "     logistic  Random_Forest  Gradient_Boosting\n",
      "0    0.051446       0.469565           0.195610\n",
      "1    0.468895       0.486957           0.814278\n",
      "2    0.965070       0.843478           0.949794\n",
      "3    0.015741       0.408696           0.084419\n",
      "4    0.039434       0.330435           0.453020\n",
      "..        ...            ...                ...\n",
      "139  0.001700       0.121739           0.022639\n",
      "140  0.991596       0.869565           0.958049\n",
      "141  0.010940       0.095652           0.045092\n",
      "142  0.951066       0.773913           0.913031\n",
      "143  0.014851       0.278261           0.179889\n",
      "\n",
      "[144 rows x 3 columns]\n"
     ]
    }
   ],
   "source": [
    "# 合併不同的模型產出\n",
    "import pandas as pd\n",
    "y_pred_df = pd.DataFrame({\"logistic\":y_pred_logistic[:,1], \"Random_Forest\":y_pred_RF[:,1], \"Gradient_Boosting\":y_pred_GBC[:,1]})\n",
    "print(y_pred_df)\n",
    "\n",
    "# Level 1 Classifier\n",
    "clf_Level_1 = LogisticRegression(random_state=0, penalty=None).fit(y_pred_df,np.ravel(y_valid))"
   ]
  },
  {
   "cell_type": "code",
   "execution_count": 50,
   "metadata": {},
   "outputs": [],
   "source": [
    "# 測試模型成效\n",
    "a = x_test\n",
    "y_pred_logistic = clf_Lo.predict_proba(a)\n",
    "y_pred_RF = clf_RF.predict_proba(a)\n",
    "y_pred_GBC = clf_GB.predict_proba(a)\n",
    "y_pred_df = pd.DataFrame({\"logistic\":y_pred_logistic[:,1], \"Random_Forest\":y_pred_RF[:,1], \"Gradient_Boosting\":y_pred_GBC[:,1]})\n",
    "y_pred = clf_Level_1.predict(y_pred_df)"
   ]
  },
  {
   "cell_type": "code",
   "execution_count": 51,
   "metadata": {},
   "outputs": [
    {
     "name": "stdout",
     "output_type": "stream",
     "text": [
      "\n",
      "bestc:  157.89482105263158\n",
      "F1:  0.9934640522875817\n",
      "accuracy:  0.99375\n",
      "recall:  0.987012987012987\n",
      "precision:  1.0\n",
      "coeificient of stacking:  [ 3.37007952 14.61288773  1.60352663]\n"
     ]
    }
   ],
   "source": [
    "# 輸出accuracy recall precision等\n",
    "accuracy = accuracy_score(y_test, y_pred)\n",
    "precision = precision_score(y_test, y_pred)\n",
    "recall = recall_score(y_test, y_pred)\n",
    "F1_s = f1_score(y_pred,y_test)\n",
    "\n",
    "print(\"\")\n",
    "print(\"bestc: \", bestc)\n",
    "print(\"F1: \", F1_s)\n",
    "print(\"accuracy: \", accuracy)\n",
    "print(\"recall: \", recall)\n",
    "print(\"precision: \", precision)\n",
    "coef = np.ravel(clf_Level_1.coef_)\n",
    "print(\"coeificient of stacking: \", coef)"
   ]
  }
 ],
 "metadata": {
  "kernelspec": {
   "display_name": "Python 3 (ipykernel)",
   "language": "python",
   "name": "python3"
  },
  "language_info": {
   "codemirror_mode": {
    "name": "ipython",
    "version": 3
   },
   "file_extension": ".py",
   "mimetype": "text/x-python",
   "name": "python",
   "nbconvert_exporter": "python",
   "pygments_lexer": "ipython3",
   "version": "3.11.5"
  }
 },
 "nbformat": 4,
 "nbformat_minor": 5
}
